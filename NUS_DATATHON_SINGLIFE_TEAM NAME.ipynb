{
 "cells": [
  {
   "cell_type": "markdown",
   "metadata": {},
   "source": [
    "##### The cell below is for you to keep track of the libraries used and install those libraries quickly\n",
    "##### Ensure that the proper library names are used and the syntax of `%pip install PACKAGE_NAME` is followed"
   ]
  },
  {
   "cell_type": "code",
   "execution_count": 4,
   "metadata": {},
   "outputs": [
    {
     "name": "stdout",
     "output_type": "stream",
     "text": [
      "Collecting pyarrow\n",
      "  Downloading pyarrow-15.0.0-cp39-cp39-win_amd64.whl (24.9 MB)\n",
      "     --------------------------------------- 24.9/24.9 MB 17.2 MB/s eta 0:00:00\n",
      "Requirement already satisfied: numpy<2,>=1.16.6 in c:\\users\\tange\\anaconda3\\lib\\site-packages (from pyarrow) (1.21.5)\n",
      "Installing collected packages: pyarrow\n",
      "Successfully installed pyarrow-15.0.0\n",
      "Note: you may need to restart the kernel to use updated packages.\n"
     ]
    }
   ],
   "source": [
    "#%pip install pandas \n",
    "#%pip install matplotlib\n",
    "%pip install pyarrow\n",
    "\n",
    "# add commented pip installation lines for packages used as shown above for ease of testing\n",
    "# the line should be of the format %pip install PACKAGE_NAME "
   ]
  },
  {
   "cell_type": "markdown",
   "metadata": {},
   "source": [
    "## **DO NOT CHANGE** the filepath variable\n",
    "##### Instead, create a folder named 'data' in your current working directory and \n",
    "##### have the .parquet file inside that. A relative path *must* be used when loading data into pandas"
   ]
  },
  {
   "cell_type": "code",
   "execution_count": 5,
   "metadata": {},
   "outputs": [],
   "source": [
    "# Can have as many cells as you want for code\n",
    "import pandas as pd\n",
    "filepath = \"./data/catB_train.parquet\" \n",
    "# the initialised filepath MUST be a relative path to a folder named data that contains the parquet file"
   ]
  },
  {
   "cell_type": "markdown",
   "metadata": {},
   "source": [
    "### **ALL** Code for machine learning and dataset analysis should be entered below. \n",
    "##### Ensure that your code is clear and readable.\n",
    "##### Comments and Markdown notes are advised to direct attention to pieces of code you deem useful."
   ]
  },
  {
   "cell_type": "code",
   "execution_count": 8,
   "metadata": {},
   "outputs": [
    {
     "name": "stdout",
     "output_type": "stream",
     "text": [
      "Logistic Regression Accuracy: 0.9552414605418139\n"
     ]
    }
   ],
   "source": [
    "###...code...###\n",
    "import numpy as np\n",
    "import matplotlib.pyplot as plt\n",
    "import pandas as pd\n",
    "import seaborn as sns\n",
    "\n",
    "from sklearn.preprocessing import LabelEncoder\n",
    "from sklearn.model_selection import train_test_split\n",
    "from sklearn.naive_bayes import GaussianNB\n",
    "from sklearn import metrics\n",
    "from sklearn.svm import SVC\n",
    "from sklearn.linear_model import LogisticRegression\n",
    "\n",
    "# read\n",
    "df = pd.read_parquet('data/catB_train.parquet')\n",
    "original_df = df\n",
    "# write\n",
    "#df.to_parquet('my_newfile.parquet')\n",
    "\n",
    "# Investigate target column\n",
    "\n",
    "# Step 1: Clean f_purchase_lh\n",
    "df['f_purchase_lh'] = df['f_purchase_lh'].fillna(0)\n",
    "\n",
    "\n",
    "label_encoder = LabelEncoder()\n",
    "df['clttype'] = label_encoder.fit_transform(df['clttype'])\n",
    "\n",
    "#print(label_encoder.classes_)\n",
    "\n",
    "columns_to_test = [\"clttype\", \"stat_flag\", \"flg_substandard\", \"flg_has_health_claim\", \"flg_is_borderline_standard\"\n",
    "                   , \"flg_is_revised_term\", \"flg_is_rental_flat\", \"flg_has_life_claim\", \"flg_gi_claim\", \"flg_is_proposal\"\n",
    "                   , \"flg_with_preauthorisation\", \"is_housewife_retiree\", \"is_sg_pr\", \"is_class_1_2\"\n",
    "                   , \"is_dependent_in_at_least_1_policy\", \"f_purchase_lh\"]\n",
    "#df = df[columns_to_test]\n",
    "\n",
    "columns_to_keep = [\"clttype\", \"flg_gi_claim\", \"flg_is_proposal\", \"is_housewife_retiree\", \"is_sg_pr\", \"is_class_1_2\", \"f_purchase_lh\"]\n",
    "\n",
    "'''\n",
    "# Test Correlation matrix\n",
    "corr_matrix = df.corr()\n",
    "print(corr_matrix)\n",
    "sns.heatmap(corr_matrix, annot=True, cmap='coolwarm')\n",
    "plt.show()\n",
    "'''\n",
    "df = df[columns_to_keep]\n",
    "df = df.dropna()\n",
    "X = df[[\"clttype\", \"flg_gi_claim\", \"flg_is_proposal\", \"is_housewife_retiree\", \"is_sg_pr\", \"is_class_1_2\"]]\n",
    "y = df[\"f_purchase_lh\"]\n",
    "\n",
    "# Split the dataset into training and testing sets\n",
    "X_train, X_test, y_train, y_test = train_test_split(X, y, test_size=0.2, random_state=42)\n",
    "\n",
    "# Initialize the Logistic Regression classifier\n",
    "logistic_regression = LogisticRegression()\n",
    "\n",
    "# Train the classifier\n",
    "logistic_regression.fit(X_train, y_train)\n",
    "\n",
    "# Make predictions on the test set\n",
    "y_pred = logistic_regression.predict(X_test)\n",
    "\n",
    "# Calculate accuracy\n",
    "accuracy = metrics.accuracy_score(y_test, y_pred)\n",
    "print(\"Logistic Regression Accuracy:\", accuracy)"
   ]
  },
  {
   "cell_type": "markdown",
   "metadata": {},
   "source": [
    "## The cell below is **NOT** to be removed\n",
    "##### The function is to be amended so that it accepts the given input (dataframe) and returns the required output (list). \n",
    "##### It is recommended to test the function out prior to submission\n",
    "-------------------------------------------------------------------------------------------------------------------------------\n",
    "##### The hidden_data parsed into the function below will have the same layout columns wise as the dataset *SENT* to you\n",
    "##### Thus, ensure that steps taken to modify the initial dataset to fit into the model are also carried out in the function below"
   ]
  },
  {
   "cell_type": "code",
   "execution_count": 23,
   "metadata": {},
   "outputs": [],
   "source": [
    "def testing_hidden_data(hidden_data: pd.DataFrame) -> list:\n",
    "    '''DO NOT REMOVE THIS FUNCTION.\n",
    "\n",
    "The function accepts a dataframe as input and return an iterable (list)\n",
    "of binary classes as output.\n",
    "\n",
    "The function should be coded to test on hidden data\n",
    "and should include any preprocessing functions needed for your model to perform. \n",
    "    \n",
    "All relevant code MUST be included in this function.'''\n",
    "    label_encoder = LabelEncoder()\n",
    "    hidden_data['clttype'] = label_encoder.fit_transform(hidden_data['clttype'])\n",
    "    \n",
    "    columns_to_keep = [\"clttype\", \"flg_gi_claim\", \"flg_is_proposal\", \"is_housewife_retiree\", \"is_sg_pr\", \"is_class_1_2\"]\n",
    "    \n",
    "    hidden_data = hidden_data[columns_to_keep]\n",
    "    hidden_data = hidden_data.fillna(0)\n",
    "    result = logistic_regression.predict(hidden_data)\n",
    "    count_0 = 0\n",
    "    count_1 = 0\n",
    "    for entry in result:\n",
    "        if entry == 0:\n",
    "            count_0 += 1\n",
    "        if entry == 1:\n",
    "            count_1 += 1\n",
    "    print(count_0, count_1)\n",
    "    return result"
   ]
  },
  {
   "cell_type": "markdown",
   "metadata": {},
   "source": [
    "##### Cell to check testing_hidden_data function"
   ]
  },
  {
   "cell_type": "code",
   "execution_count": 24,
   "metadata": {},
   "outputs": [
    {
     "name": "stdout",
     "output_type": "stream",
     "text": [
      "17988 4\n",
      "[0. 0. 0. ... 0. 0. 0.]\n"
     ]
    }
   ],
   "source": [
    "# This cell should output a list of predictions.\n",
    "test_df = pd.read_parquet(filepath)\n",
    "test_df = test_df.drop(columns=[\"f_purchase_lh\"])\n",
    "print(testing_hidden_data(test_df))"
   ]
  },
  {
   "cell_type": "markdown",
   "metadata": {},
   "source": [
    "### Please have the filename renamed and ensure that it can be run with the requirements above being met. All the best!"
   ]
  }
 ],
 "metadata": {
  "kernelspec": {
   "display_name": "Python 3 (ipykernel)",
   "language": "python",
   "name": "python3"
  },
  "language_info": {
   "codemirror_mode": {
    "name": "ipython",
    "version": 3
   },
   "file_extension": ".py",
   "mimetype": "text/x-python",
   "name": "python",
   "nbconvert_exporter": "python",
   "pygments_lexer": "ipython3",
   "version": "3.9.13"
  }
 },
 "nbformat": 4,
 "nbformat_minor": 2
}
